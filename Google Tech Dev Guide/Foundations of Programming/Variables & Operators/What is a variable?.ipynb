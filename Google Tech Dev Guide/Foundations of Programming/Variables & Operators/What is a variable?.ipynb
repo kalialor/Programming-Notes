{
 "cells": [
  {
   "cell_type": "markdown",
   "id": "b621ec2a",
   "metadata": {},
   "source": [
    "A variable is a container for storing a value. The variable is stored in the computer's memory and it can be stored and updated repeatedly throughout your program. \n",
    "\n",
    "\n"
   ]
  }
 ],
 "metadata": {
  "kernelspec": {
   "display_name": "Python 3 (ipykernel)",
   "language": "python",
   "name": "python3"
  },
  "language_info": {
   "codemirror_mode": {
    "name": "ipython",
    "version": 3
   },
   "file_extension": ".py",
   "mimetype": "text/x-python",
   "name": "python",
   "nbconvert_exporter": "python",
   "pygments_lexer": "ipython3",
   "version": "3.9.13"
  }
 },
 "nbformat": 4,
 "nbformat_minor": 5
}
