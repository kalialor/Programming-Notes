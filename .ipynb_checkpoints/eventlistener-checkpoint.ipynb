{
 "cells": [
  {
   "cell_type": "code",
   "execution_count": null,
   "id": "39caba5d",
   "metadata": {},
   "outputs": [],
   "source": [
    "EVENT LISTENERS\n",
    "\n",
    "add the name of the variable. parameter can be a click, mouseup, you can loock up \n",
    "different parameters. the (e) is a function that runs\n",
    "everytime you do the eventListener.\n",
    "\n",
    "\n",
    "variableName.addEventListener('parameter1', (e) => console.log(\"Type in anything here\"))\n",
    "\n",
    "\n",
    "input.addEventListener('click', (e) => console.log(\"YEEET\"))\n",
    "\n"
   ]
  }
 ],
 "metadata": {
  "kernelspec": {
   "display_name": "JavaScript (Node.js)",
   "language": "javascript",
   "name": "javascript"
  },
  "language_info": {
   "file_extension": ".js",
   "mimetype": "application/javascript",
   "name": "javascript",
   "version": "18.13.0"
  }
 },
 "nbformat": 4,
 "nbformat_minor": 5
}
