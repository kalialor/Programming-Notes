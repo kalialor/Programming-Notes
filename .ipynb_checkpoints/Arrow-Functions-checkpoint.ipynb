{
 "cells": [
  {
   "cell_type": "markdown",
   "id": "d6c8b822",
   "metadata": {},
   "source": [
    "ARROW FUNCTIONS\n",
    "\n",
    "in an arrow function, the function keyword is assumed. the sum function needs to be \n",
    "assigned to a varible, so call it sum2. you need to create your own varible to store\n",
    "the function. The aroow takes place of the brackets & return keyword.\n",
    "\n",
    "<br><br>"
   ]
  },
  {
   "cell_type": "code",
   "execution_count": null,
   "id": "3e301fa8",
   "metadata": {},
   "outputs": [],
   "source": [
    "function sum(a,b){\n",
    "    return a + b\n",
    "}\n",
    "\n",
    "let sum2 = (a,b) => a + b\n"
   ]
  },
  {
   "cell_type": "markdown",
   "id": "d02bc47b",
   "metadata": {},
   "source": [
    "<br><br>"
   ]
  },
  {
   "cell_type": "markdown",
   "id": "34f84d6e",
   "metadata": {},
   "source": [
    "RULE:  if there is only one parameter, you can take away the parenthesis\n",
    "anything to the left of the arrow function is the argument\n",
    "anything to the right of the arrow function is the thing you are returning\n",
    "\n",
    "<br><br>\n"
   ]
  },
  {
   "cell_type": "code",
   "execution_count": null,
   "id": "9775fa7c",
   "metadata": {},
   "outputs": [],
   "source": [
    "function isPositive(number){\n",
    "    return number >= 0\n",
    "}\n",
    "\n",
    "\n",
    "\n",
    "let isPositive2 = number => number >= 0 \n"
   ]
  },
  {
   "cell_type": "markdown",
   "id": "b96394f4",
   "metadata": {},
   "source": [
    "<br><br>"
   ]
  },
  {
   "cell_type": "code",
   "execution_count": null,
   "id": "193c1747",
   "metadata": {},
   "outputs": [],
   "source": [
    "\n",
    "function randomNumber() {\n",
    "    return Math.random\n",
    "}\n",
    "\n",
    "\n",
    "let randomNumber2 = () => Math.random\n"
   ]
  },
  {
   "cell_type": "markdown",
   "id": "ca8e9f36",
   "metadata": {},
   "source": [
    "<br><br>"
   ]
  },
  {
   "cell_type": "code",
   "execution_count": null,
   "id": "a661b625",
   "metadata": {},
   "outputs": [],
   "source": [
    "\n",
    "document.addEventListener('click', function(){\n",
    "    console.log('Yeet!')\n",
    "})\n",
    "\n",
    "\n",
    "document.addEventListener('click', () => console.log('Yeet!'))\n"
   ]
  }
 ],
 "metadata": {
  "kernelspec": {
   "display_name": "JavaScript (Node.js)",
   "language": "javascript",
   "name": "javascript"
  },
  "language_info": {
   "file_extension": ".js",
   "mimetype": "application/javascript",
   "name": "javascript",
   "version": "18.13.0"
  }
 },
 "nbformat": 4,
 "nbformat_minor": 5
}
