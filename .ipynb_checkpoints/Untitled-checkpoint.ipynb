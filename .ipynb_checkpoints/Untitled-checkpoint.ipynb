{
 "cells": [
  {
   "cell_type": "markdown",
   "id": "a8bf2a96",
   "metadata": {},
   "source": [
    "<h1>Arrays<h1>\n",
    "<br><br>"
   ]
  },
  {
   "cell_type": "code",
   "execution_count": 2,
   "id": "bbd4f9a5",
   "metadata": {},
   "outputs": [
    {
     "name": "stdout",
     "output_type": "stream",
     "text": [
      "c\n"
     ]
    }
   ],
   "source": [
    "//how to print our elements in an array\n",
    "\n",
    "const poohBear = ['a', 'b','c', 'd']\n",
    "\n",
    "console.log(poohBear[2])"
   ]
  },
  {
   "cell_type": "code",
   "execution_count": 3,
   "id": "4043c111",
   "metadata": {},
   "outputs": [
    {
     "name": "stdout",
     "output_type": "stream",
     "text": [
      "4\n"
     ]
    }
   ],
   "source": [
    "//how to get the length of an array\n",
    "\n",
    "console.log(poohBear.length)\n"
   ]
  },
  {
   "cell_type": "code",
   "execution_count": 4,
   "id": "17d7827a",
   "metadata": {},
   "outputs": [
    {
     "data": {
      "text/plain": [
       "6"
      ]
     },
     "execution_count": 4,
     "metadata": {},
     "output_type": "execute_result"
    }
   ],
   "source": [
    "//how to push something to the end of an array\n",
    "\n",
    "poohBear.push('e')\n",
    "poohBear.push(3)"
   ]
  },
  {
   "cell_type": "code",
   "execution_count": null,
   "id": "d566ba4a",
   "metadata": {},
   "outputs": [],
   "source": [
    "//how to push an array into another array. a nested array\n",
    "\n",
    "poohBear.push([1,2])"
   ]
  },
  {
   "cell_type": "code",
   "execution_count": 5,
   "id": "2a05c6f9",
   "metadata": {},
   "outputs": [
    {
     "name": "stdout",
     "output_type": "stream",
     "text": [
      "b\n"
     ]
    }
   ],
   "source": [
    "//example 2\n",
    "//say you wanted to grab b from the array \n",
    "///the 'first' array is in position 0 \n",
    "//b is in the 1 position\n",
    "\n",
    "const tigger = [['a', 'b', 'c', 'd'], [1,2]] \n",
    "\n",
    "console.log(tigger[0][1])"
   ]
  },
  {
   "cell_type": "code",
   "execution_count": null,
   "id": "4118b8d7",
   "metadata": {},
   "outputs": [],
   "source": [
    "//you can also change the element in an array\n",
    "\n",
    "tigger[0] = apple      //prints out [apple, b, c, d], [1,2]\n"
   ]
  },
  {
   "cell_type": "markdown",
   "id": "f3f30bef",
   "metadata": {},
   "source": [
    "<br><br>\n",
    "\n",
    "<h2>ARRAY METHODS<h2>"
   ]
  },
  {
   "cell_type": "markdown",
   "id": "bdad7eae",
   "metadata": {},
   "source": [
    "<h3>Filter Method</h3>\n",
    "\n",
    "<p>say you wanted to get all the items that were <= 100, so you would use the filter method to filter out everyting greater than 100</p>\n",
    "    \n",
    "<br><br>"
   ]
  },
  {
   "cell_type": "code",
   "execution_count": 15,
   "id": "7e1aa7f4",
   "metadata": {},
   "outputs": [
    {
     "name": "stdout",
     "output_type": "stream",
     "text": [
      "[\n",
      "  { name: 'Bike', price: 100 },\n",
      "  { name: 'Album', price: 10 },\n",
      "  { name: 'Book', price: 5 },\n",
      "  { name: 'Keyboard', price: 25 }\n",
      "]\n"
     ]
    }
   ],
   "source": [
    "const items = [\n",
    "    { name: 'Bike',      price: 100},\n",
    "    { name: 'TV',        price: 200},\n",
    "    { name: 'Album',     price: 10},\n",
    "    { name: 'Book',      price: 5}, \n",
    "    { name: 'Phone',      price: 500}, \n",
    "    { name: 'Computer',      price: 1000}, \n",
    "    { name: 'Keyboard',      price: 25}\n",
    "]\n",
    "\n",
    "\n",
    "const filteredItems = items.filter((item) => {\n",
    "    return item.price <= 100\n",
    "})\n",
    "\n",
    "console.log(filteredItems)  //so it would print out bike, album, book, & keyboard"
   ]
  },
  {
   "cell_type": "markdown",
   "id": "491102fe",
   "metadata": {},
   "source": [
    "<br><br>\n",
    "<h3>Map Method<h3>\n",
    "\n",
    "\n",
    "<p>allows you to take one array and convert it to a new array, so all the items will \n",
    "look different</p>"
   ]
  },
  {
   "cell_type": "code",
   "execution_count": 16,
   "id": "a529be5f",
   "metadata": {},
   "outputs": [
    {
     "name": "stdout",
     "output_type": "stream",
     "text": [
      "[\n",
      "  'Bike',     'TV',\n",
      "  'Album',    'Book',\n",
      "  'Phone',    'Computer',\n",
      "  'Keyboard'\n",
      "]\n",
      "[\n",
      "  100, 200,   10,\n",
      "    5, 500, 1000,\n",
      "   25\n",
      "]\n"
     ]
    }
   ],
   "source": [
    "const itemNames = items.map((item) => {\n",
    "    return item.name\n",
    "})\n",
    "\n",
    "console.log(itemNames)   //prints out only the names\n",
    "\n",
    "\n",
    "\n",
    "\n",
    "const itemPrice = items.map((item) => {     //item is the parameter\n",
    "    return item.price\n",
    "})\n",
    "\n",
    "console.log(itemPrice)    //prints out only the price\n"
   ]
  },
  {
   "cell_type": "markdown",
   "id": "666a1240",
   "metadata": {},
   "source": [
    "<br><br>\n",
    "<h3>Find method</h3>\n",
    "\n",
    "allows you to find things in an array"
   ]
  },
  {
   "cell_type": "code",
   "execution_count": 17,
   "id": "c72e8c37",
   "metadata": {},
   "outputs": [
    {
     "name": "stdout",
     "output_type": "stream",
     "text": [
      "{ name: 'Book', price: 5 }\n"
     ]
    }
   ],
   "source": [
    "const foundItem = items.find((item) => {\n",
    "    return item.name === 'Book'\n",
    "})\n",
    "\n",
    "console.log(foundItem)"
   ]
  },
  {
   "cell_type": "markdown",
   "id": "673d343c",
   "metadata": {},
   "source": [
    "<br><br>\n",
    "<h3>For Each</h3>\n",
    "\n",
    "takes place of for loop syntax for arrays. it makes it a lot easier"
   ]
  },
  {
   "cell_type": "code",
   "execution_count": null,
   "id": "c9d68e91",
   "metadata": {},
   "outputs": [],
   "source": [
    "items.forEach((item) => {\n",
    "    console.log(item.price)\n",
    "})"
   ]
  },
  {
   "cell_type": "markdown",
   "id": "fbad6e79",
   "metadata": {},
   "source": [
    "<br><br>\n",
    "ANOTHER EXAMPLE:\n",
    "\n",
    "takes the item & the index. console.log the item\n",
    "used when working with APIs. we are going to loop through the array and get data back\n",
    "and append them to the DOM\n"
   ]
  },
  {
   "cell_type": "code",
   "execution_count": null,
   "id": "d8e96ddd",
   "metadata": {},
   "outputs": [],
   "source": [
    "let bestColors = ['green', 'blue', 'yellow', 'orange']\n",
    "\n",
    "bestColors.forEach((x,i) => console.log(x))"
   ]
  },
  {
   "cell_type": "markdown",
   "id": "1574506e",
   "metadata": {},
   "source": [
    "<br><br><br>\n",
    "\n",
    "<h3>Some Function<h3>\n",
    "\n",
    "\n",
    "check if something is true or false \n",
    "\n",
    "check if the array has something for <= 100  (less than or equal to 100)\n"
   ]
  },
  {
   "cell_type": "code",
   "execution_count": null,
   "id": "3430a0b7",
   "metadata": {},
   "outputs": [],
   "source": [
    "const hasInexpensiveItems = items.some((item) => {\n",
    "    return item.price <= 100\n",
    "})\n",
    "\n",
    "console.log(hasInexpensiveItems)"
   ]
  },
  {
   "cell_type": "markdown",
   "id": "6930e228",
   "metadata": {},
   "source": [
    "<br><br>\n",
    "<h3>Every Function</h3>\n",
    "\n",
    "instead of checking for one item, it checks if every item falls under the condition\n"
   ]
  },
  {
   "cell_type": "code",
   "execution_count": null,
   "id": "d85c4b1e",
   "metadata": {},
   "outputs": [],
   "source": [
    "const hasInexpensiveItems = items.every((item) => {\n",
    "    return item.price <= 100\n",
    "})\n",
    "\n",
    "console.log(hasInexpensiveItems)"
   ]
  },
  {
   "cell_type": "markdown",
   "id": "ac8368f5",
   "metadata": {},
   "source": [
    "<br><br>\n",
    "    \n",
    "<h3>Reduce Method</h3>\n",
    "\n",
    "Doing operation on the array \n",
    "\n",
    "get the sum of the items"
   ]
  },
  {
   "cell_type": "code",
   "execution_count": null,
   "id": "061f6791",
   "metadata": {},
   "outputs": [],
   "source": [
    "const total = items.reduce((currentTotal, item) => {    //you want currentTotal to be the first parameter then item\n",
    "    return item.price + currentTotal\n",
    "}, 0)      //starting point. we want to start the total at 0.\n",
    "\n",
    "console.log(total)    //total will be 1840\n"
   ]
  },
  {
   "cell_type": "markdown",
   "id": "1ae0faac",
   "metadata": {},
   "source": [
    "<br><br>\n",
    "<h3>Includes Method<h3>\n",
    "\n",
    "checking to see if array inclues the argument or the thing you are passing in"
   ]
  },
  {
   "cell_type": "code",
   "execution_count": null,
   "id": "12a4ed64",
   "metadata": {},
   "outputs": [],
   "source": [
    "const cat = [1, 2, 3, 4, 5]\n",
    "\n",
    "const includesTwo = items.includes(2)\n",
    "\n",
    "console.log(includesTwo)   //prints out true\n",
    "\n",
    "\n",
    "const includesTwo = items.includes(7)\n",
    "\n",
    "console.log(includesTwo)    // prints out false\n"
   ]
  },
  {
   "cell_type": "markdown",
   "id": "6a5083b3",
   "metadata": {},
   "source": [
    "<br><br>\n",
    "\n",
    "\n",
    "Class 29\n",
    "\n",
    "Your pokemon party order which is a list of pokemon has been leaked to Misty. Please create \n",
    "a function that reverses your list and prints it to the console. "
   ]
  },
  {
   "cell_type": "code",
   "execution_count": null,
   "id": "97af22c9",
   "metadata": {},
   "outputs": [],
   "source": [
    "function reverseParty(partyList){\n",
    "    console.log(partyList.reverse())\n",
    "}\n",
    "reverseParty(['bulba', 'char', 'pika', 'pika'])"
   ]
  },
  {
   "cell_type": "markdown",
   "id": "c2efcbd7",
   "metadata": {},
   "source": [
    "<br><br>\n",
    "Given two integer arrays a, b, both of length >= 1, create a program that returns true if \n",
    "the sum of the squares of each element in a is strictly greater than the sum of the cubes of \n",
    "each element in b.\n",
    "\n",
    "\n",
    "two integer arrays are an array of numbers\n",
    "\n",
    "both arrays are >= 1\n",
    "\n",
    "square each number in an array\n",
    "\n",
    " ** is shorthand for squaring\n",
    " ** is cubing\n",
    "\n",
    "0 is for the initial value\n",
    "\n",
    "\n",
    "wherever you see the letter a     it is the first array\n",
    "we are reducing it to one value\n",
    "\n",
    "acc stands for accumlation the total \n",
    "c stands for current value\n",
    "\n",
    "each time the program runs it will do 2 squared 2 until you get to the end of the array\n",
    "2 * 2 = 4 <----keep for accumlator\n",
    "2 * 2 = 4 \n",
    "2 * 2 = 4        so 4 + 4 + 4 = 12              so a = 12\n",
    "\n",
    "\n",
    " do the same thing for b, but b is cubed \n",
    " so b = 24\n",
    "\n",
    "\n",
    "the function returns false because 12 is < 24 \n",
    "so to get it true then change the array to be true\n"
   ]
  },
  {
   "cell_type": "code",
   "execution_count": 14,
   "id": "ff559143",
   "metadata": {},
   "outputs": [
    {
     "name": "stdout",
     "output_type": "stream",
     "text": [
      "false\n"
     ]
    }
   ],
   "source": [
    "function compareSquareAndCube(a,b){\n",
    "    return a.reduce((acc,c)=> acc + c **2, 0) > b.reduce((acc,c) => acc + c **3,0) \n",
    "}\n",
    "console.log(compareSquareAndCube([2,2,2],[2,2,2]))\n"
   ]
  },
  {
   "cell_type": "markdown",
   "id": "c938d06e",
   "metadata": {},
   "source": [
    "\n",
    "<br><br>\n",
    "Return a new array consisting of elements which are multiple of their own index in input \n",
    "array (length > 1).\n",
    " Some cases:\n",
    " [22, -6, 32, 82, 9, 25] =>  [-6, 32, 25]\n",
    " [68, -1, 1, -7, 10, 10] => [-1, 10]\n",
    "\n",
    "\n",
    "\n",
    "\n",
    "so can the index of each item in the array go into each item in the array\n",
    "for ex. can 0 go into 22? no\n",
    "can 1 go into 6? yes\n",
    "can 2 go into 82? yes         and so on for that array\n",
    "\n",
    "<br>\n",
    "\n",
    "use array filter method\n",
    "because you want to filter out the items where the index can go through evenly.\n",
    "filter grabs the element, index, & the array.\n",
    "in this example, we only want the element index\n",
    "e stands for element and i stands for index\n",
    "\n",
    "in filter, we are creating a new array of numbers that are multiples of the index\n",
    "so the new array is [-6, 32, 25]"
   ]
  },
  {
   "cell_type": "code",
   "execution_count": null,
   "id": "cf9fe37d",
   "metadata": {},
   "outputs": [],
   "source": [
    "function isMultiple(arr){\n",
    "    return arr.filter((e,i) => e % i === 0)\n",
    "}"
   ]
  },
  {
   "cell_type": "markdown",
   "id": "bcb17edb",
   "metadata": {},
   "source": [
    "<br><br>\n",
    "\n",
    "Given an array of integers as strings and numbers, return the sum of the array values as \n",
    "if all were numbers. Return your answer as a number."
   ]
  },
  {
   "cell_type": "code",
   "execution_count": null,
   "id": "413cffb0",
   "metadata": {},
   "outputs": [],
   "source": [
    "function sumOfValues(arr){\n",
    "    return arr.reduce((acc,c) => acc + Number(c), 0)\n",
    "}\n",
    "\n",
    "console.log(sumOfValues(['5', 3, '2', 1]))"
   ]
  }
 ],
 "metadata": {
  "kernelspec": {
   "display_name": "JavaScript (Node.js)",
   "language": "javascript",
   "name": "javascript"
  },
  "language_info": {
   "file_extension": ".js",
   "mimetype": "application/javascript",
   "name": "javascript",
   "version": "18.13.0"
  }
 },
 "nbformat": 4,
 "nbformat_minor": 5
}
