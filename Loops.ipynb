{
 "cells": [
  {
   "cell_type": "markdown",
   "id": "9de485e8",
   "metadata": {},
   "source": [
    "<strong>Loops</strong>\n",
    "\n",
    "\n",
    "For Loop\n",
    "\n",
    "syntax: "
   ]
  },
  {
   "cell_type": "code",
   "execution_count": null,
   "id": "8a86dab4",
   "metadata": {},
   "outputs": [],
   "source": [
    "for (initialization; condition; final expression){\n",
    "    console.log()\n",
    "}"
   ]
  },
  {
   "cell_type": "markdown",
   "id": "df6a5da5",
   "metadata": {},
   "source": [
    "<br><br>\n",
    "    \n",
    "initialization-only happens once, when the code first kicks off. It is often\n",
    "used to set the initial value of the variable associated to the loop condition.\n",
    "how many times the loop runs\n",
    "\n",
    "\n",
    "condition-is evaulated once before the loop runs each time. If it's true, the code runs.\n",
    "If not, the code does not run.\n",
    "\n",
    "\n",
    "final expression-is evualatied after the loop runs each time. It is often used to update the value\n",
    "of the variable associated with the loop condition\n",
    "\n",
    "\n"
   ]
  },
  {
   "cell_type": "markdown",
   "id": "556c7553",
   "metadata": {},
   "source": [
    "<br><br>\n",
    "Example:\n",
    "i stands for index"
   ]
  },
  {
   "cell_type": "code",
   "execution_count": 1,
   "id": "e31bdfae",
   "metadata": {},
   "outputs": [
    {
     "name": "stdout",
     "output_type": "stream",
     "text": [
      "1\n",
      "2\n",
      "3\n",
      "4\n"
     ]
    }
   ],
   "source": [
    "for (i = 1; i < 5; i++) {\n",
    "    console.log(i)\n",
    "}                               \n"
   ]
  },
  {
   "cell_type": "markdown",
   "id": "68f67e7c",
   "metadata": {},
   "source": [
    "<br><br>"
   ]
  },
  {
   "cell_type": "code",
   "execution_count": 6,
   "id": "c54769dc",
   "metadata": {},
   "outputs": [
    {
     "name": "stdout",
     "output_type": "stream",
     "text": [
      "0\n",
      "1\n",
      "2\n",
      "3\n"
     ]
    }
   ],
   "source": [
    "for (let i = 0; i < 5; i++){\n",
    "    console.log(i)\n",
    "    if (i === 3) break; \n",
    "}                    "
   ]
  },
  {
   "cell_type": "markdown",
   "id": "d5d1ccf6",
   "metadata": {},
   "source": [
    "<br><br>"
   ]
  },
  {
   "cell_type": "code",
   "execution_count": 5,
   "id": "2ef3b23c",
   "metadata": {},
   "outputs": [
    {
     "name": "stdout",
     "output_type": "stream",
     "text": [
      "5\n",
      "4\n",
      "3\n",
      "2\n",
      "1\n"
     ]
    }
   ],
   "source": [
    "for (let i = 5; i > 0; i--){\n",
    "    console.log(i)\n",
    "}    "
   ]
  },
  {
   "cell_type": "markdown",
   "id": "b422b9ff",
   "metadata": {},
   "source": [
    "<br><br>"
   ]
  },
  {
   "cell_type": "code",
   "execution_count": 7,
   "id": "f5646d7f",
   "metadata": {},
   "outputs": [
    {
     "name": "stdout",
     "output_type": "stream",
     "text": [
      "john\n",
      "bob\n",
      "mary\n",
      "joe\n"
     ]
    }
   ],
   "source": [
    "const names = ['john', 'bob', 'mary', 'joe'];   \n",
    "\n",
    "for(let i = 0; i < names.length; i++){\n",
    "    console.log(names[i]);                   \n",
    "}"
   ]
  },
  {
   "cell_type": "markdown",
   "id": "b24897f0",
   "metadata": {},
   "source": [
    "<br><br>"
   ]
  },
  {
   "cell_type": "markdown",
   "id": "f995d416",
   "metadata": {},
   "source": [
    "While Loop: \n",
    "Declares index outside of the loop\n",
    "\n",
    "\n",
    "if the condition value is TRUE, the code in the while loop body runs. Afterwords, the \n",
    "condition is re-evaluated to see if it's still true or not. \n",
    "\n",
    "The loop keeps entering that statement as long as the expression produces a value that gives true.\n",
    "\n",
    "if the condition is FALSE, the code in the loop stops running or doesn't run. \n",
    "\n",
    "\n",
    "use while loops when you don't know how many times the loop should run.\n",
    "\n",
    "<br><br>"
   ]
  },
  {
   "cell_type": "code",
   "execution_count": 9,
   "id": "a08270f1",
   "metadata": {},
   "outputs": [
    {
     "name": "stdout",
     "output_type": "stream",
     "text": [
      "1\n",
      "2\n",
      "3\n",
      "4\n",
      "5\n"
     ]
    },
    {
     "data": {
      "text/plain": [
       "5"
      ]
     },
     "execution_count": 9,
     "metadata": {},
     "output_type": "execute_result"
    }
   ],
   "source": [
    "let count = 1; \n",
    "\n",
    "while(count <= 5){\n",
    "    console.log(count);\n",
    "    count ++;\n",
    "}"
   ]
  },
  {
   "cell_type": "markdown",
   "id": "1faa8f95",
   "metadata": {},
   "source": [
    "<br><br>\n",
    "using continue:"
   ]
  },
  {
   "cell_type": "code",
   "execution_count": null,
   "id": "9b283ffe",
   "metadata": {},
   "outputs": [],
   "source": [
    "let count = 1; \n",
    "\n",
    "while(count <= 5){\n",
    "    console.log(count);\n",
    "    count ++;\n",
    "}"
   ]
  },
  {
   "cell_type": "markdown",
   "id": "5d3933d5",
   "metadata": {},
   "source": [
    "<br><br>"
   ]
  },
  {
   "cell_type": "code",
   "execution_count": 11,
   "id": "2ed252ef",
   "metadata": {},
   "outputs": [
    {
     "name": "stdout",
     "output_type": "stream",
     "text": [
      "1\n",
      "2\n",
      "3\n",
      "4\n",
      "6\n",
      "7\n",
      "8\n",
      "9\n",
      "10\n"
     ]
    }
   ],
   "source": [
    "let i = 0;\n",
    "\n",
    "while(i < 10) {\n",
    "    i++;\n",
    "    if (i === 5) continue;\n",
    "    console.log(i);\n",
    "}"
   ]
  },
  {
   "cell_type": "markdown",
   "id": "4aef8776",
   "metadata": {},
   "source": [
    "<br>\n",
    "-no 5 is missing because it stops the first loop and starts a new loop. it's like a break\n",
    "-continue stops the current loop and starts back up with the new loop   \n"
   ]
  },
  {
   "cell_type": "markdown",
   "id": "fefc31c8",
   "metadata": {},
   "source": [
    "<br><br><br>\n",
    "    \n",
    "    Do While Loop\n",
    "\n",
    "always executes its body at least ONCE, then loop based on a specific condition after its \n",
    "initial run.\n",
    "\n",
    "\n",
    "do...while loops says to do a task ONCE then keep doing it until a specified condition is no \n",
    "longer met \n"
   ]
  },
  {
   "cell_type": "code",
   "execution_count": null,
   "id": "49f35c66",
   "metadata": {},
   "outputs": [],
   "source": [
    "\n",
    "let i = 0;\n",
    "\n",
    "do {\n",
    "    i++;\n",
    "    if(i === 5) continue;\n",
    "    console.log(i);\n",
    "} while(i < 0);\n",
    "\n",
    "\n",
    "//prints out 1 because even though 1 is < 0, the do statement runs once \n"
   ]
  }
 ],
 "metadata": {
  "kernelspec": {
   "display_name": "JavaScript (Node.js)",
   "language": "javascript",
   "name": "javascript"
  },
  "language_info": {
   "file_extension": ".js",
   "mimetype": "application/javascript",
   "name": "javascript",
   "version": "18.13.0"
  }
 },
 "nbformat": 4,
 "nbformat_minor": 5
}
