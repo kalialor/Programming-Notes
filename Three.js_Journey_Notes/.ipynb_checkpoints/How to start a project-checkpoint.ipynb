{
 "cells": [
  {
   "cell_type": "markdown",
   "id": "f16c8b51",
   "metadata": {},
   "source": [
    "at the start of every project: \n",
    "<br><br>\n",
    "<strong>npm install</strong><br>\n",
    "<strong>npm run dev</strong>"
   ]
  }
 ],
 "metadata": {
  "kernelspec": {
   "display_name": "JavaScript (Node.js)",
   "language": "javascript",
   "name": "javascript"
  },
  "language_info": {
   "file_extension": ".js",
   "mimetype": "application/javascript",
   "name": "javascript",
   "version": "18.13.0"
  }
 },
 "nbformat": 4,
 "nbformat_minor": 5
}
