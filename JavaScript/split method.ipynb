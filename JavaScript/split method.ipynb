{
 "cells": [
  {
   "cell_type": "markdown",
   "id": "f1ca1fb5",
   "metadata": {},
   "source": [
    "The .split() method is used to split a string into an array of substrings, based on a specified separator. The separator can be a string or a regular expression. If no separator is specified, the method will use whitespace as the default separator. \n",
    "\n",
    "\n",
    "Here is an example of using .split() to split a string by a specific separator:"
   ]
  },
  {
   "cell_type": "code",
   "execution_count": 1,
   "id": "741f365f",
   "metadata": {},
   "outputs": [
    {
     "name": "stdout",
     "output_type": "stream",
     "text": [
      "[ 'I', 'am', 'a', 'string' ]\n"
     ]
    }
   ],
   "source": [
    "let str = \"I-am-a-string\";\n",
    "let res = str.split(\"-\");\n",
    "console.log(res);"
   ]
  },
  {
   "cell_type": "markdown",
   "id": "363d6c39",
   "metadata": {},
   "source": [
    "so it takes away the dash and inputs the results into an array\n",
    "<br><br><br>\n",
    "\n"
   ]
  },
  {
   "cell_type": "code",
   "execution_count": 7,
   "id": "fa086e22",
   "metadata": {},
   "outputs": [
    {
     "ename": "SyntaxError",
     "evalue": "Identifier 'word' has already been declared",
     "output_type": "error",
     "traceback": [
      "evalmachine.<anonymous>:1",
      "let word = \"I-am-a-string\";",
      "^",
      "",
      "SyntaxError: Identifier 'word' has already been declared",
      "    at Script.runInThisContext (node:vm:129:12)",
      "    at Object.runInThisContext (node:vm:307:38)",
      "    at run ([eval]:1020:15)",
      "    at onRunRequest ([eval]:864:18)",
      "    at onMessage ([eval]:828:13)",
      "    at process.emit (node:events:513:28)",
      "    at emit (node:internal/child_process:937:14)",
      "    at process.processTicksAndRejections (node:internal/process/task_queues:83:21)"
     ]
    }
   ],
   "source": [
    "let word = \"I-am-a-string\";\n",
    "let result = word.split(\"-\",2);\n",
    "console.log(result);   //Output: [\"I\",\"am\"]"
   ]
  },
  {
   "cell_type": "markdown",
   "id": "43cc019c",
   "metadata": {},
   "source": [
    "It's important to note, that the .split method does not modify the original string, it returns a new array containing the substrings.\n",
    "<br><br><br>\n",
    "\n",
    "Syntax:<br>\n",
    "string.split(seperator)<br>\n",
    "string.split(seperator,limit)<br>"
   ]
  }
 ],
 "metadata": {
  "kernelspec": {
   "display_name": "JavaScript (Node.js)",
   "language": "javascript",
   "name": "javascript"
  },
  "language_info": {
   "file_extension": ".js",
   "mimetype": "application/javascript",
   "name": "javascript",
   "version": "18.13.0"
  }
 },
 "nbformat": 4,
 "nbformat_minor": 5
}
