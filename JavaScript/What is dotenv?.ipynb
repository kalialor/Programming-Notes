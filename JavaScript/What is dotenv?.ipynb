{
 "cells": [
  {
   "cell_type": "markdown",
   "id": "1bf83e9f",
   "metadata": {},
   "source": [
    "dotenv allows you to store information that you want hidden from users, such as our connection string to our mongoDB database"
   ]
  }
 ],
 "metadata": {
  "kernelspec": {
   "display_name": "JavaScript (Node.js)",
   "language": "javascript",
   "name": "javascript"
  },
  "language_info": {
   "file_extension": ".js",
   "mimetype": "application/javascript",
   "name": "javascript",
   "version": "18.13.0"
  }
 },
 "nbformat": 4,
 "nbformat_minor": 5
}
