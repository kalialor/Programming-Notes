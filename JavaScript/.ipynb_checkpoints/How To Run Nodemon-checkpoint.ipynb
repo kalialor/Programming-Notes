{
 "cells": [
  {
   "cell_type": "markdown",
   "id": "1b124b21",
   "metadata": {},
   "source": [
    "Nodemon allows the page to refresh everytime you save, without you having to turn the server off and on each time. \n",
    "<br><br><br>\n",
    "\n",
    "\n",
    "\n",
    "Type into terminal: <br><strong>npm install nodemon --save-dev</strong>\n",
    "<br><br><br><br><br>\n",
    "\n",
    "Then go to package.json file and type in: <br><br><strong>\"dev\": \"nodemon server.js\"</strong><br><br>\n",
    "\n",
    "should look like this:<br><br>\n",
    " \"scripts\": {<br>\n",
    "    \"test\": \"echo \\\"Error: no test specified\\\" && exit 1\",<br>\n",
    "    \"dev\": \"nodemon server.js\"<br>                              \n",
    "  },\n",
    "\n",
    "<br><br><br><br>\n",
    "Now, you can run <strong>npm run dev</strong> to trigger nodemon server.js."
   ]
  }
 ],
 "metadata": {
  "kernelspec": {
   "display_name": "JavaScript (Node.js)",
   "language": "javascript",
   "name": "javascript"
  },
  "language_info": {
   "file_extension": ".js",
   "mimetype": "application/javascript",
   "name": "javascript",
   "version": "18.13.0"
  }
 },
 "nbformat": 4,
 "nbformat_minor": 5
}
