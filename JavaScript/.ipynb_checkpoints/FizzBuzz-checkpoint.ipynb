{
 "cells": [
  {
   "cell_type": "markdown",
   "id": "0c9bb0a1",
   "metadata": {},
   "source": [
    "Create a function that takes in a number. Console log all values from 1 to that number, but if the \n",
    "number is divisible by 3 log \"fizz\" instead of that number, if the number is divisible by 5 log \n",
    "\"buzz\" instead of the number, and if the number is divisible by 3 and 5 log \"fizzbuzz\" instead of \n",
    "that number"
   ]
  },
  {
   "cell_type": "code",
   "execution_count": 2,
   "id": "a5eda8bd",
   "metadata": {},
   "outputs": [],
   "source": [
    "function fizzBuzz(num) {\n",
    "    for(let i = 1; i <= num; i++) {\n",
    "        if(i % 3 === 0 && i % 5 === 0) {\n",
    "            console.log(\"FizzBuzz\");\n",
    "        }else if(i % 3 === 0) {\n",
    "            console.log(\"Fizz\");\n",
    "        }else if(i % 5 === 0) {\n",
    "            console.log(\"Buzz\");\n",
    "            }else {\n",
    "                console.log(i);\n",
    "            }\n",
    "    }\n",
    "}"
   ]
  },
  {
   "cell_type": "markdown",
   "id": "a1ecd033",
   "metadata": {},
   "source": [
    "<br><br>\n",
    "Another problem like it:"
   ]
  },
  {
   "cell_type": "markdown",
   "id": "05903571",
   "metadata": {},
   "source": [
    "Write a program that uses console.log to print all the numbers from 1-100, with two exceptions. For numbers\n",
    "disvisible by 3, print \"Fizz\" for numbers divisible by 5, print \"buzz\". When you have that working, modify your \n",
    "program to print \"Fizzbuzz\" for numbers that are divisible by both 3 and 5 (and still print \"Fizz\" or \n",
    "\"Buzz\" for numbers divisible by only one of those)."
   ]
  },
  {
   "cell_type": "code",
   "execution_count": null,
   "id": "67d7c8b1",
   "metadata": {},
   "outputs": [],
   "source": [
    "for (let n = 1; n <= 100; n++){\n",
    "    let output = \"\";\n",
    "    if (n % 3 == 0) output += \"Fizz\";\n",
    "    if (n % 5 == 0) output += \"Buzz\";\n",
    "    console.log(output || n);\n",
    "}"
   ]
  }
 ],
 "metadata": {
  "kernelspec": {
   "display_name": "JavaScript (Node.js)",
   "language": "javascript",
   "name": "javascript"
  },
  "language_info": {
   "file_extension": ".js",
   "mimetype": "application/javascript",
   "name": "javascript",
   "version": "18.13.0"
  }
 },
 "nbformat": 4,
 "nbformat_minor": 5
}
