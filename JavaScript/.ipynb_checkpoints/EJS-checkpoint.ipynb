{
 "cells": [
  {
   "cell_type": "markdown",
   "id": "68db7788",
   "metadata": {},
   "source": [
    "<h1>Embedded JavaScript Templates(EJS)</h1>\n",
    "<br><br><br>\n",
    "\n",
    "has its own syntax. instead of things being hard-coded we use this. with this, we're able to pull in data from our MongoDB database and plug it into here and have it spit out html.\n"
   ]
  }
 ],
 "metadata": {
  "kernelspec": {
   "display_name": "JavaScript (Node.js)",
   "language": "javascript",
   "name": "javascript"
  },
  "language_info": {
   "file_extension": ".js",
   "mimetype": "application/javascript",
   "name": "javascript",
   "version": "18.13.0"
  }
 },
 "nbformat": 4,
 "nbformat_minor": 5
}
