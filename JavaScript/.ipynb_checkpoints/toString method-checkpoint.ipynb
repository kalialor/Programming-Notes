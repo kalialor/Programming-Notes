{
 "cells": [
  {
   "cell_type": "markdown",
   "id": "27c4d647",
   "metadata": {},
   "source": [
    "It converts a value into a string"
   ]
  },
  {
   "cell_type": "code",
   "execution_count": 1,
   "id": "bb1bc994",
   "metadata": {},
   "outputs": [
    {
     "name": "stdout",
     "output_type": "stream",
     "text": [
      "123\n"
     ]
    }
   ],
   "source": [
    "let num = 123;\n",
    "let dog = num.toString();\n",
    "console.log(dog);    // \"123\""
   ]
  },
  {
   "cell_type": "markdown",
   "id": "a0b7383e",
   "metadata": {},
   "source": [
    "It is also available for an object: "
   ]
  },
  {
   "cell_type": "code",
   "execution_count": 2,
   "id": "29311d53",
   "metadata": {},
   "outputs": [
    {
     "name": "stdout",
     "output_type": "stream",
     "text": [
      "[object Object]\n"
     ]
    }
   ],
   "source": [
    "let obj = {x:1, y:2}\n",
    "console.log(obj.toString())  \"[object Object]\""
   ]
  }
 ],
 "metadata": {
  "kernelspec": {
   "display_name": "JavaScript (Node.js)",
   "language": "javascript",
   "name": "javascript"
  },
  "language_info": {
   "file_extension": ".js",
   "mimetype": "application/javascript",
   "name": "javascript",
   "version": "18.13.0"
  }
 },
 "nbformat": 4,
 "nbformat_minor": 5
}
