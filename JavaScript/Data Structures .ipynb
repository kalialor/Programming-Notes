{
 "cells": [
  {
   "cell_type": "markdown",
   "id": "a5a7b5db",
   "metadata": {},
   "source": [
    "<strong>Que</strong>-like a real queue, the first element which was added to the list will be the <strong>first</strong> element out. This is called a FIFO(First In First Out) structure"
   ]
  },
  {
   "cell_type": "markdown",
   "id": "f7d8f996",
   "metadata": {},
   "source": [
    "<br><br><br><br>"
   ]
  },
  {
   "cell_type": "code",
   "execution_count": null,
   "id": "11225d78",
   "metadata": {},
   "outputs": [],
   "source": [
    "let queue = []\n",
    "queue.push(2)      //queue is now [2]\n",
    "queue.push(5)       //queue is now [2,5]\n",
    "let i = queue.shift()          //queue is now [5]\n",
    "alert(i)             //displays 2"
   ]
  },
  {
   "cell_type": "markdown",
   "id": "17a8d16b",
   "metadata": {},
   "source": [
    "<br><br><br><br>\n",
    "<strong>Stack</strong>-the first pancake made, is the last pancake served. This is called a stack. The first element which was added to the list, will be the <strong>last</strong> one out. LIFO (Last In First Out)\n",
    "\n",
    "<br><br>"
   ]
  },
  {
   "cell_type": "code",
   "execution_count": null,
   "id": "77eccda6",
   "metadata": {},
   "outputs": [],
   "source": [
    "let stack = []\n",
    "stack.push(2)     //stack is now [2]\n",
    "stack.puh(5)       //stack is now [5]\n",
    "let = stack.pop()          //stack is now [2]\n",
    "alert(i)                 //displays [5]"
   ]
  }
 ],
 "metadata": {
  "kernelspec": {
   "display_name": "JavaScript (Node.js)",
   "language": "javascript",
   "name": "javascript"
  },
  "language_info": {
   "file_extension": ".js",
   "mimetype": "application/javascript",
   "name": "javascript",
   "version": "18.13.0"
  }
 },
 "nbformat": 4,
 "nbformat_minor": 5
}
