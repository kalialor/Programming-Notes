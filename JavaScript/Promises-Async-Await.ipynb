{
 "cells": [
  {
   "cell_type": "markdown",
   "id": "d1ca707d",
   "metadata": {},
   "source": [
    "<strong>Synchronous</strong>-like waiting for someone to get their paper before moving on to the next house. it waits. it has to wait until it's done, to move onto the next thing. JS is synchronous. Synchronous functions have to wait for the function to finish its work and return a value befure the function can continue.  \n",
    "<br><br>\n",
    "<strong>Asynchronous</strong>-like throwing paper at the door and moving on to the next house. no wait. It is a technique that enables your program to start a potentially long-running task and still be able to be responsive to other events while that task runs, rather than having to wait until that task has finished. Once that task has finished, your program is presented with the result. So multitasking. \n",
    "<br><br><br><br>\n",
    "JavaScript is single-threaded, synchronous, and can only do one operation at a time. JS is blocking. Since we are running it in the browser, JavaScript is able to do things that it shouldn't be able to do. Our JS is running in a browser. <br><br>\n",
    "\n",
    "Browsers have a bunch of APIs we can use that are async and enable us to keep looking cute cat photos while those operations are being processed asynchronously.<br><br>\n",
    "\n",
    "It is not JavaScript being asychronous. The browser is asychronous.<br><br>\n",
    "\n",
    "<strong>Common Browser APIs:</strong><br>\n",
    "Document Object Model (DOM)<br>\n",
    "https://developer.mozilla.org/en-US/docs/Web/API<br><br>\n",
    "<br><br><br><br><br><br><br><br>\n",
    "\n",
    "setTimeout and setInterval are not part of the JavaScript specification. Most environments include them, like all browsers and Node.js. \n",
    "\n",
    "<strong>setTime Out Example:</strong>"
   ]
  },
  {
   "cell_type": "code",
   "execution_count": null,
   "id": "5c5c0963",
   "metadata": {},
   "outputs": [],
   "source": [
    "function houseOne(){\n",
    "    console.log('Paper delivered to house 1')\n",
    "}\n",
    "function houseTwo(){\n",
    "    setTimeout() => console.log('Paper devlivered to house 2'), 3000)    //3000 is 3 seconds\n",
    "}\n",
    "function houseThree(){\n",
    "    console.log('Paper delivered to house 3')\n",
    "}\n",
    "houseOne()\n",
    "houseTwo()\n",
    "houseThree()\n",
    "\n",
    "\n",
    "//Paper delivered to house 1\n",
    "//Paper delivered to house 3\n",
    "//Paper delivered to house 2\n",
    "\n",
    "//JavaScript doesn't wait. It moves onto house 3.\n",
    "\n",
    "//change 3000 to 0 seconds. Still 1,3,2 because the event loop.\n",
    "//setTimeout is a browser API. It is asychronous."
   ]
  },
  {
   "cell_type": "markdown",
   "id": "6971c41b",
   "metadata": {},
   "source": [
    "<br><br><br><br>\n",
    "<strong>What are callbacks?</strong>\n",
    "Callbacks are waiting for a response and then do something else. Callbacks are waiting for the web APIs and then it'll do something. Callback is a function that's passed into another function, with the expectation that the callback will be called at the appropriate time. Nested callbacks can be hard to read & debug and it causes the 'callback hell.' For this reason, most modern asynchronous programming in JavaScript don't use callbacks. Instead, the foundation of asynchronous progamming in JS is called Promise.  <br>\n",
    "Higher Order function: you can have a function that takes another function as an argument<br>\n",
    "    You have seen this a million times: addEventListener('click',callback)<br><br>"
   ]
  },
  {
   "cell_type": "code",
   "execution_count": null,
   "id": "bc7b3883",
   "metadata": {},
   "outputs": [],
   "source": [
    "//example: \n",
    "//houseTwo(houseThree)\n",
    "//houseTwo is the higher order function and houseThree is the callback\n",
    "\n",
    "function houseOne(){\n",
    "    console.log('Paper delivered to house 1')\n",
    "}\n",
    "function houseTwo(callback){\n",
    "    setTimeout() => console.log('Paper devlivered to house 2') \n",
    "        callback()}, 3000)    \n",
    "}\n",
    "function houseThree(){\n",
    "    console.log('Paper delivered to house 3')\n",
    "}\n",
    "houseOne()\n",
    "houseTwo(houseThree)\n",
    "\n",
    "\n",
    "//it runs houseTwo and houseThree 3 seconds after houseOne because \n",
    "//houseThree is the callback and houseTwo is set to 3000 (3 seconds)\n",
    "//what do we immediately do after we console.log(houseTwo)?\n",
    "//we do the callback, houseThree\n",
    "//houseTwo waits 3 seconds, then it console.log itself and runs the callback\n",
    "//the callback in this situation is houseThree"
   ]
  },
  {
   "cell_type": "markdown",
   "id": "d97fd223",
   "metadata": {},
   "source": [
    "<br><br><br><br>\n",
    "Callback fires when async task to another function is done\n",
    "<br><br><br><br><br><br><br><br>\n",
    "<h3>Promise</h3>\n",
    "revolutionizes the way we handle the responses we get from all the \n",
    "asynchronous tasks. All the web APIs use promises. All web APIs return promises. A promise is an object that represents the eventual completion or failure of an async operation and its value. Put simply, an object that may have value in the future. like a placeholder. Promises are the foundation of asynchronous programming in modern JavaScript. A promise is an object returned by an an asychronous function, which represents the current state of the operation.At the time the promise is returned to the caller, the operation often isn't finished, but the promise object provides methods to handle the eventual success or failure of the operation. <br><br><br><br>\n",
    "\n",
    "A promise can have 3 possible states: <br><br>\n",
    "<strong>pending</strong>initial state, neither fulfilled nor\n",
    "rejected<br><br>\n",
    "<strong>fulfilled:</strong>meaning that the operation was completed\n",
    "successfully<br><br>\n",
    "<strong>rejected:</strong>meaning that the operation failed<br><br>\n",
    "<br><br>\n",
    "we are talking about an asychronous task, something that was handed off to the browser, then the browser responds with a <strong>promise.</strong> That promise can have 3 states listed above.<br><br><br><br>\n",
    "\n",
    ".then()\n",
    "a promise object method that runs after the promise 'resolves' <br><br>\n",
    "\n",
    ".then(value) whatever value the promise object has gets passed as an argument  \n",
    "<br><br><br><br><br><br><br><br><br><br>\n",
    "Await waits for an async process to complete inside an Async Function. Await is better than promises because it is readable.<br><br><br><br><br><br>\n",
    "JavaScript is a language that can only do what the hosting environment allows. <br><br>\n",
    "<br><br><br><br><br><br><br><br>\n",
    "\n"
   ]
  }
 ],
 "metadata": {
  "kernelspec": {
   "display_name": "JavaScript (Node.js)",
   "language": "javascript",
   "name": "javascript"
  },
  "language_info": {
   "file_extension": ".js",
   "mimetype": "application/javascript",
   "name": "javascript",
   "version": "18.13.0"
  }
 },
 "nbformat": 4,
 "nbformat_minor": 5
}
