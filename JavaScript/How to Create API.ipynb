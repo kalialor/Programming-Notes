{
 "cells": [
  {
   "cell_type": "markdown",
   "id": "ebdc539b",
   "metadata": {},
   "source": [
    "<h2>Setting Up the Project:</h2>\n",
    "<br>\n",
    "\n",
    "mkdir api-project<br>\n",
    "cd api-project<br>\n",
    "npm init<br>\n",
    "npm install express --save<br>\n",
    "<br><br><br><br>\n",
    "\n",
    "<h2>Creating the server:</h2>\n",
    "<br>\n",
    "go cd into the project folder and type in:<br>\n",
    "touch server.js<br>\n",
    "you'll see there is a server.js file\n",
    "<br><br><br>\n",
    "\n",
    "create an .html file in the SAME directory as your server.js file\n",
    "<br><br>"
   ]
  },
  {
   "cell_type": "code",
   "execution_count": null,
   "id": "59f9b1b2",
   "metadata": {},
   "outputs": [],
   "source": [
    "//type in terminal: node server.js    <----starts the server\n",
    "//go to tab in browser and type in localhost:8000 to see .html file\n",
    "//wherever you see app. know that express is used\n",
    "\n",
    "\n",
    "const express = require('express')\n",
    "const app = express()                              //wherever you see app. know we are using express\n",
    "const PORT = 8000\n",
    "\n",
    "\n",
    "app.get('/', (request, response) => {                      //get request\n",
    "    response.sendFile(__dirname + '/index.html')         //two underscores. send an html file\n",
    "})\n",
    "\n",
    "\n",
    "app.listen(PORT, () => {               //listen for port number \n",
    "    console.log(`The server is running on ${PORT}! You better go catch it!`)\n",
    "})           "
   ]
  },
  {
   "cell_type": "markdown",
   "id": "c42caff7",
   "metadata": {},
   "source": [
    "<br><br><br><br>\n",
    "<h2>Create an API</h2><br>\n",
    "<br><br>"
   ]
  },
  {
   "cell_type": "code",
   "execution_count": null,
   "id": "6a944c1d",
   "metadata": {},
   "outputs": [],
   "source": [
    "//Create an Object for the API, then a getter\n",
    "//check terminal: node server.js \n",
    "//then type in: localhost:8000/api   to see the api\n",
    "\n",
    "\n",
    "const savage = {                                 //creates an object for the API\n",
    "    'age':29,\n",
    "    'birthName:':'Sheyaa Bin Abraham-Joseph',\n",
    "    'birthLocation': 'London, England'\n",
    "\n",
    "}\n",
    "\n",
    "\n",
    "\n",
    "app.get('/api', (request, response)=> {                     //creates API\n",
    "    response.json(savage)\n",
    "})"
   ]
  },
  {
   "cell_type": "markdown",
   "id": "1ebc49b9",
   "metadata": {},
   "source": [
    "<br><br><br>\n",
    "<br>\n",
    "***postman on the browser can't run localhost. you need to download the desktop version to be able to run localhost"
   ]
  },
  {
   "cell_type": "markdown",
   "id": "4037c36c",
   "metadata": {},
   "source": [
    "<br><br><br>\n",
    "<h2>To Stop a Server from Running:</h2><br>\n",
    "press control + c\n",
    "<br><br>\n",
    "\n",
    "\n",
    "\n",
    "\n",
    "<br><br><br><br>\n",
    "<h2>Push To Heroku</h2><br>\n",
    "heroku login -i<br>\n",
    "heroku create simple-rap-api<br>\n",
    "echo \"web: node server.js\"> Profile<br>\n",
    "git add .  <br>\n",
    "git commit -m \"changes\" <br>\n",
    "git push heroku main<br>\n"
   ]
  }
 ],
 "metadata": {
  "kernelspec": {
   "display_name": "JavaScript (Node.js)",
   "language": "javascript",
   "name": "javascript"
  },
  "language_info": {
   "file_extension": ".js",
   "mimetype": "application/javascript",
   "name": "javascript",
   "version": "18.13.0"
  }
 },
 "nbformat": 4,
 "nbformat_minor": 5
}
