{
 "cells": [
  {
   "cell_type": "markdown",
   "id": "6355dbd6",
   "metadata": {},
   "source": [
    "https://youtu.be/zHq0v5RD_Zk\n",
    "<br><br><br>\n",
    "\n",
    "class 39 around 2:30:10 mark\n",
    "<br><br>\n",
    "\n",
    "go to working folder in the terminal<br><br>\n",
    "npm install cors --save\n",
    "<br><br><br><br>\n",
    "Then go to server.js file and type in:<br><br>\n",
    "const cors = require('cors')\n",
    "<br><br><br><br>\n",
    "under the modules type in: <br>\n",
    "app.use(cors())\n",
    "<br><br><br>\n",
    "then lastly, git add . and update to git and update heroku and refresh page"
   ]
  }
 ],
 "metadata": {
  "kernelspec": {
   "display_name": "JavaScript (Node.js)",
   "language": "javascript",
   "name": "javascript"
  },
  "language_info": {
   "file_extension": ".js",
   "mimetype": "application/javascript",
   "name": "javascript",
   "version": "18.13.0"
  }
 },
 "nbformat": 4,
 "nbformat_minor": 5
}
