{
 "cells": [
  {
   "cell_type": "markdown",
   "id": "506a25ba",
   "metadata": {},
   "source": [
    "<h3>app.use(express.static('public'))</h3>\n",
    "<br><br><br>\n",
    "\n",
    "Any file you put in the public folder, gets set to the server. you don't need to link it to the html, or write it in node, or express. This includes, html files, css, javascript, images. you don't need to write app.get"
   ]
  }
 ],
 "metadata": {
  "kernelspec": {
   "display_name": "JavaScript (Node.js)",
   "language": "javascript",
   "name": "javascript"
  },
  "language_info": {
   "file_extension": ".js",
   "mimetype": "application/javascript",
   "name": "javascript",
   "version": "18.13.0"
  }
 },
 "nbformat": 4,
 "nbformat_minor": 5
}
