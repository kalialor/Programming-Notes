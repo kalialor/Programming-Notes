{
 "cells": [
  {
   "cell_type": "markdown",
   "id": "21cc9973",
   "metadata": {},
   "source": [
    "https://zellwk.com/blog/crud-express-mongodb/\n",
    "<br><br><br>\n",
    "\n",
    "<h2>CRUD</h2>\n",
    "<br><br>\n",
    "Create(post)-make something<br>\n",
    "Read(get)-get something<br>\n",
    "Update(put)-change something<br>\n",
    "Delete(delete)-remove something<br>\n",
    "<br><br>\n",
    "\n",
    "99% of web apps have this\n",
    "<br><br><br>\n",
    "\n",
    "\n",
    "\n",
    "Example-Instagram:\n",
    "<br><br>\n",
    "C-creating posts<br>\n",
    "R-reading dms, scrolling through feed<br>\n",
    "U-editing commnents, liking a photo<br>\n",
    "D-deleting followers, deleting posts<br>\n",
    "<br><br>\n",
    "\n",
    "<h2>Express</h2>\n",
    "<br><br>\n",
    "is a framework for building web applications on top of Node.js. It simplifies the server creation process that is already available in Node. \n",
    "Fast, unopinionated, minimalist web framework for Node.js\n",
    "with a myriad of HTTP utility methods and middleware at your disposal, creating a robust API is quick and easy.\n",
    "<br><br><br>\n",
    "HTTP utility methods-functions and tools used to build out API\n",
    "<br><br>\n",
    "middleware-anything between request & response\n",
    "<br><br>\n",
    "opinionated-you are bought to their system. an example is Ruby on Rails.\n",
    "<br><br>\n",
    "Express is focused on the API and you can do whatever else you want. (unopinionated)\n",
    "<br><br><br><br><br>\n",
    "Node allows you to use JavaScript as your server-side language. \n",
    "\n",
    "<br><br><br><br><br>\n",
    "MongoDB is a database. This is a place where you store information for your websites (or applications)."
   ]
  }
 ],
 "metadata": {
  "kernelspec": {
   "display_name": "JavaScript (Node.js)",
   "language": "javascript",
   "name": "javascript"
  },
  "language_info": {
   "file_extension": ".js",
   "mimetype": "application/javascript",
   "name": "javascript",
   "version": "18.13.0"
  }
 },
 "nbformat": 4,
 "nbformat_minor": 5
}
