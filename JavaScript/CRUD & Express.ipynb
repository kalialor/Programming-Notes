{
 "cells": [
  {
   "cell_type": "markdown",
   "id": "21cc9973",
   "metadata": {},
   "source": [
    "<h2>CRUD</h2>\n",
    "<br><br>\n",
    "Create(post)-make something<br>\n",
    "Read(get)-get something<br>\n",
    "Update(put)-change something<br>\n",
    "Delete(delete)-remove something<br>\n",
    "<br><br>\n",
    "\n",
    "99% of web apps have this\n",
    "<br><br><br>\n",
    "\n",
    "\n",
    "\n",
    "Example-Instagram:\n",
    "<br><br>\n",
    "C-creating posts<br>\n",
    "R-reading dms, scrolling through feed<br>\n",
    "U-editing commnents, liking a photo<br>\n",
    "D-deleting followers, deleting posts<br>\n",
    "<br><br>\n",
    "\n",
    "<h2>Express</h2>\n",
    "<br><br>\n",
    "Fast, unopinionated, minimalist web framework for Node.js\n",
    "with a myriad of HTTP utility methods and middleware at your disposal, creating a robust API is quick and easy.\n",
    "<br><br>"
   ]
  }
 ],
 "metadata": {
  "kernelspec": {
   "display_name": "JavaScript (Node.js)",
   "language": "javascript",
   "name": "javascript"
  },
  "language_info": {
   "file_extension": ".js",
   "mimetype": "application/javascript",
   "name": "javascript",
   "version": "18.13.0"
  }
 },
 "nbformat": 4,
 "nbformat_minor": 5
}
