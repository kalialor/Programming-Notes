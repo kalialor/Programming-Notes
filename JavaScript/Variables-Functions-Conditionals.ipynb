{
 "cells": [
  {
   "cell_type": "code",
   "execution_count": null,
   "id": "182de898",
   "metadata": {},
   "outputs": [],
   "source": [
    "// *Variables*\n",
    "\n",
    "// Declare a variable, assign it a boolean, and alert the value\n",
    "\n",
    "let dog = true;\n",
    "    console.log(dog);"
   ]
  },
  {
   "cell_type": "code",
   "execution_count": 2,
   "id": "3458ceb5",
   "metadata": {},
   "outputs": [
    {
     "name": "stdout",
     "output_type": "stream",
     "text": [
      "red\n"
     ]
    }
   ],
   "source": [
    "// Declare a variable, reassign it to your favorite color, and console log the value\n",
    "\n",
    "let cat = 'blue';\n",
    "    cat = 'red';\n",
    "    console.log(cat);"
   ]
  },
  {
   "cell_type": "markdown",
   "id": "474b2e14",
   "metadata": {},
   "source": [
    "<br><br>"
   ]
  },
  {
   "cell_type": "code",
   "execution_count": 4,
   "id": "d6023df0",
   "metadata": {},
   "outputs": [
    {
     "name": "stdout",
     "output_type": "stream",
     "text": [
      "1.5\n"
     ]
    }
   ],
   "source": [
    "// *Functions*\n",
    "\n",
    "\n",
    "// Create a function that takes in 4 numbers and returns the \n",
    "//sum of the first 3 numbers divided by \n",
    "//the fourth. Return the result. Call the function.\n",
    "\n",
    "function turtle(x,y,z,a) {\n",
    "    return (x + y + z) / a \n",
    "}\n",
    "    console.log(turtle(1,2,3,4))"
   ]
  },
  {
   "cell_type": "markdown",
   "id": "cfd3a901",
   "metadata": {},
   "source": [
    "<br><br>"
   ]
  },
  {
   "cell_type": "code",
   "execution_count": 6,
   "id": "730d6430",
   "metadata": {},
   "outputs": [
    {
     "name": "stdout",
     "output_type": "stream",
     "text": [
      "8\n"
     ]
    }
   ],
   "source": [
    "// Create a function that takes in 2 numbers. Console log the \n",
    "//first number to the power of the second. \n",
    "//Call the function.\n",
    "\n",
    "function umbrella(x,y) {\n",
    "    console.log( Math.pow(x,y) )\n",
    "}\n",
    "    umbrella(2,3)\n"
   ]
  },
  {
   "cell_type": "code",
   "execution_count": 8,
   "id": "570c1355",
   "metadata": {},
   "outputs": [],
   "source": [
    "// *Conditionals*\n",
    "// Create a function that takes in a boolean and a string. If \n",
    "//the boolean is true, alert the string. \n",
    "//If the boolean is false, console log the string\n",
    "\n",
    "function grass(b, str) {\n",
    "    if (b) {\n",
    "        alert(str)\n",
    "    }else {\n",
    "        console.log(str)\n",
    "    }\n",
    "}\n",
    "\n",
    "\n",
    "//ANOTHER WAY OF WRITING THE CONDITIONL IF/ELSE STATEMENT:\n",
    "\n",
    "//b ? alert(str) : console.log(str)\n",
    "\n",
    "//if b is true then you do what is on the left hand side of \n",
    "//the :\n",
    "//f b is false then you do what is on the right of :"
   ]
  }
 ],
 "metadata": {
  "kernelspec": {
   "display_name": "JavaScript (Node.js)",
   "language": "javascript",
   "name": "javascript"
  },
  "language_info": {
   "file_extension": ".js",
   "mimetype": "application/javascript",
   "name": "javascript",
   "version": "18.13.0"
  }
 },
 "nbformat": 4,
 "nbformat_minor": 5
}
