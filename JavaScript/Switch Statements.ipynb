{
 "cells": [
  {
   "cell_type": "code",
   "execution_count": 1,
   "id": "e3aaf3a3",
   "metadata": {},
   "outputs": [
    {
     "name": "stdout",
     "output_type": "stream",
     "text": [
      "This animal will go on Noah's Ark.\n"
     ]
    }
   ],
   "source": [
    "/* Switch Statements is the perfect solution for long, nested if/else \n",
    "statments. The value of the expression is \n",
    "then compared with the values of each case in the structure. If there \n",
    "is a match, the associated block of code is \n",
    "executed. \n",
    "\n",
    "\n",
    "\n",
    "\n",
    "if you see a break; in a switch statement then that means it will execute \n",
    "the case and the next one;\n",
    "to prevent that, you type in break\n",
    "\n",
    "if you see the world 'default' then it means if switch statment doesn't \n",
    "match any of the cases, \n",
    "it will go to the default statment\n",
    "\n",
    "\n",
    "*/\n",
    "\n",
    "\n",
    "\n",
    "\n",
    "\n",
    "//EXAMPLE:\n",
    "\n",
    "\n",
    "//This will print out 'This animal will go to Noah's Ark' because Giraffe \n",
    "//is list in the case \n",
    "//You can change out the variable\n",
    "\n",
    "\n",
    "let Animal = 'Giraffe';\n",
    "\n",
    "\n",
    "switch (Animal) {\n",
    "    case 'Cow':\n",
    "    case 'Giraffe':\n",
    "    case 'Dog':\n",
    "        console.log('This animal will go on Noah\\'s Ark.');\n",
    "        break;\n",
    "    case 'Spoon':\n",
    "        console.log('A spoon is not an animal!');\n",
    "        break;\n",
    "    case 'Dinosaur':\n",
    "    default: \n",
    "        console.log('This animal will not go on Noah\\'s Ark.');\n",
    "        break;\n",
    "}"
   ]
  }
 ],
 "metadata": {
  "kernelspec": {
   "display_name": "JavaScript (Node.js)",
   "language": "javascript",
   "name": "javascript"
  },
  "language_info": {
   "file_extension": ".js",
   "mimetype": "application/javascript",
   "name": "javascript",
   "version": "18.13.0"
  }
 },
 "nbformat": 4,
 "nbformat_minor": 5
}
