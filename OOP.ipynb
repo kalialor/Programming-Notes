{
 "cells": [
  {
   "cell_type": "markdown",
   "id": "29c0ef88",
   "metadata": {},
   "source": [
    "OBJECT\n",
    "\n",
    "an object is a collection of variables and functions \n",
    "\n",
    "variables are called properties \n",
    "functions are called methods \n",
    "\n"
   ]
  },
  {
   "cell_type": "markdown",
   "id": "7ae5a8c8",
   "metadata": {},
   "source": [
    "# EXAMPLE:"
   ]
  },
  {
   "cell_type": "code",
   "execution_count": null,
   "id": "a383055f",
   "metadata": {},
   "outputs": [],
   "source": [
    "function Dog(dogSize, dogBreed, dogHair, dogEyeColor){\n",
    "    this.dogSize = dogSize               //the value on the right side is the parameter\n",
    "    this.dogBreed = dogBreed            //the value on the left is the property\n",
    "    this.dogHair = dogHair              \n",
    "    this.dogEyeColor = dogEyeColor\n",
    "    this.bark = function(){\n",
    "        console.log('WOOOOF!')\n",
    "    }\n",
    "    this.run = function(){\n",
    "        console.log('THIS IS SO MUCH FUN!!!!')\n",
    "    }\n",
    "    this.sleep = function(){\n",
    "        console.log('zzzzzzZZZZZZZzzzzz')\n",
    "    }\n",
    "}\n",
    "\n",
    "let Oliver = new Dog('medium', 'pomsky', 'long haired', 'blue')"
   ]
  },
  {
   "cell_type": "markdown",
   "id": "93dfc04c",
   "metadata": {},
   "source": [
    "<br><br>"
   ]
  },
  {
   "cell_type": "markdown",
   "id": "0761e29d",
   "metadata": {},
   "source": [
    "# NEW SYNTAX:"
   ]
  },
  {
   "cell_type": "code",
   "execution_count": null,
   "id": "6a323023",
   "metadata": {},
   "outputs": [],
   "source": [
    "\n",
    "class Dog{\n",
    "    constructor(dogSize, dogBreed, dogHair, dogEyeColor){\n",
    "        this.size = dogSize                  //you can name the value on the right side anything you wnat, just make sure you change it in the parameter      \n",
    "        this.breed = dogBreed\n",
    "        this.hair = dogHair\n",
    "        this. eyeColor = dogEyeColor\n",
    "    }\n",
    "    bark(){\n",
    "        console.log('WOOOOOOOOOFFF!!!')\n",
    "    }\n",
    "    run(){\n",
    "        console.log('THIS IS SO MUCH FUN!!!!!')\n",
    "    }\n",
    "    sleep(){\n",
    "        console.log('zzzzzzzzZZZZZZZZzzzzz')\n",
    "    }\n",
    "}let Oliver = new Dog('medium', 'pomsky', 'long haired', 'blue')\n",
    "\n"
   ]
  },
  {
   "cell_type": "markdown",
   "id": "737b26dc",
   "metadata": {},
   "source": [
    "Encapsulation is the process of storing functions (methods) with their associated data\n",
    "(properties) in one thing (object)\n",
    "\n",
    "\n",
    "What is the reason we use encapsulation?\n",
    "    makes code more readable\n",
    "    orgainizes code\n",
    "    makes it easier to add new stuff\n",
    "    makes it so you were not afraid to make changes\n",
    "\n",
    "\n",
    "\n",
    "\n",
    "\n",
    "\n",
    "\n",
    "\n",
    "<br><br>\n",
    "\n",
    "ABSTRACTION is all about hiding the details and showing the essentials\n",
    "            simple, predictable, managable\n",
    "\n",
    "\n",
    "\n",
    "\n",
    "<br><br>\n",
    "Why do we use it?\n",
    "    smaller more manageable pieces of code \n",
    "    helps you split the complexity your software project into manageable parts\n",
    "    allows you to work on one part without having to affect other parts\n",
    "\n",
    "\n",
    "\n",
    "\n",
    "\n",
    "<br><br>\n",
    "\n",
    "\n",
    "INHERITANCE \n",
    "\n",
    "    inheirting from parent object\n",
    "    we just eliminated a bunch of redundant code\n",
    "    make a clas from another class for a hierarchy of classes that share a set of \n",
    "    properties and methods\n",
    "\n",
    "\n",
    "    Why do we use it?\n",
    "        keeps code organized, reduces duplication \n",
    "\n",
    "\n",
    "    the keyword super allows us to grab all the stuff that is in the parent object and use it for \n",
    "    the child object                             see class 31\n",
    "    can extend and grab what it needs\n",
    "    we are not redoing the parts we don't need\n",
    "\n",
    "\n",
    "\n",
    "\n",
    "<br><br>\n",
    "\n",
    "\n",
    "\n",
    "POLYMORPHISM\n",
    "\n",
    "    provides a way to perform a single action in different forms. \n",
    "    provides an ability to call the same method on different JavaScript objects\n",
    "\n",
    "    helps you avoid if/else and switch cases\n"
   ]
  }
 ],
 "metadata": {
  "kernelspec": {
   "display_name": "JavaScript (Node.js)",
   "language": "javascript",
   "name": "javascript"
  },
  "language_info": {
   "file_extension": ".js",
   "mimetype": "application/javascript",
   "name": "javascript",
   "version": "18.13.0"
  }
 },
 "nbformat": 4,
 "nbformat_minor": 5
}
